{
  "nbformat": 4,
  "nbformat_minor": 0,
  "metadata": {
    "colab": {
      "provenance": [],
      "authorship_tag": "ABX9TyNPlviPXIvXvEn3cp7kZApd",
      "include_colab_link": true
    },
    "kernelspec": {
      "name": "python3",
      "display_name": "Python 3"
    },
    "language_info": {
      "name": "python"
    }
  },
  "cells": [
    {
      "cell_type": "markdown",
      "metadata": {
        "id": "view-in-github",
        "colab_type": "text"
      },
      "source": [
        "<a href=\"https://colab.research.google.com/github/lokesh116/pre-bootcamp/blob/main/test3.ipynb\" target=\"_parent\"><img src=\"https://colab.research.google.com/assets/colab-badge.svg\" alt=\"Open In Colab\"/></a>"
      ]
    },
    {
      "cell_type": "code",
      "execution_count": 1,
      "metadata": {
        "id": "ejfEmKQxVSp6"
      },
      "outputs": [],
      "source": [
        "import numpy as np"
      ]
    },
    {
      "cell_type": "code",
      "source": [
        "a=np.zeros((2,3))\n",
        "a"
      ],
      "metadata": {
        "colab": {
          "base_uri": "https://localhost:8080/"
        },
        "id": "y_lp_bevVZvQ",
        "outputId": "927a7d4f-1ef1-4754-dcbe-b354b7fa68af"
      },
      "execution_count": 2,
      "outputs": [
        {
          "output_type": "execute_result",
          "data": {
            "text/plain": [
              "array([[0., 0., 0.],\n",
              "       [0., 0., 0.]])"
            ]
          },
          "metadata": {},
          "execution_count": 2
        }
      ]
    },
    {
      "cell_type": "code",
      "source": [
        "b = np.arange(10)\n",
        "b"
      ],
      "metadata": {
        "colab": {
          "base_uri": "https://localhost:8080/"
        },
        "id": "IgTQkWgCViGo",
        "outputId": "d8561e35-2570-4b66-f1a7-4426a2457c5b"
      },
      "execution_count": 3,
      "outputs": [
        {
          "output_type": "execute_result",
          "data": {
            "text/plain": [
              "array([0, 1, 2, 3, 4, 5, 6, 7, 8, 9])"
            ]
          },
          "metadata": {},
          "execution_count": 3
        }
      ]
    },
    {
      "cell_type": "code",
      "source": [
        "c = np.arange(9).reshape((3, 3))\n",
        "c"
      ],
      "metadata": {
        "colab": {
          "base_uri": "https://localhost:8080/"
        },
        "id": "DZ5717cXVlC_",
        "outputId": "7cbc2495-8c24-437e-f577-fb70895e4a86"
      },
      "execution_count": 4,
      "outputs": [
        {
          "output_type": "execute_result",
          "data": {
            "text/plain": [
              "array([[0, 1, 2],\n",
              "       [3, 4, 5],\n",
              "       [6, 7, 8]])"
            ]
          },
          "metadata": {},
          "execution_count": 4
        }
      ]
    },
    {
      "cell_type": "code",
      "source": [
        "rg=np.random.default_rng(1)\n",
        "d=rg.random((1,5))\n",
        "d"
      ],
      "metadata": {
        "colab": {
          "base_uri": "https://localhost:8080/"
        },
        "id": "cmVQUKV0Vnw_",
        "outputId": "efa8e5f5-3652-474c-9e60-eee256c40fe9"
      },
      "execution_count": 5,
      "outputs": [
        {
          "output_type": "execute_result",
          "data": {
            "text/plain": [
              "array([[0.51182162, 0.9504637 , 0.14415961, 0.94864945, 0.31183145]])"
            ]
          },
          "metadata": {},
          "execution_count": 5
        }
      ]
    },
    {
      "cell_type": "code",
      "source": [
        "e = np.arange(9)\n",
        "e"
      ],
      "metadata": {
        "colab": {
          "base_uri": "https://localhost:8080/"
        },
        "id": "3ifM2JtwVrsA",
        "outputId": "f18ab507-5b3a-48ad-cdf8-488da97ad308"
      },
      "execution_count": 6,
      "outputs": [
        {
          "output_type": "execute_result",
          "data": {
            "text/plain": [
              "array([0, 1, 2, 3, 4, 5, 6, 7, 8])"
            ]
          },
          "metadata": {},
          "execution_count": 6
        }
      ]
    },
    {
      "cell_type": "code",
      "source": [
        "e= e.reshape((3, 3))\n",
        "e"
      ],
      "metadata": {
        "colab": {
          "base_uri": "https://localhost:8080/"
        },
        "id": "VPKgwOgWVs_5",
        "outputId": "968ec2d5-6496-43c8-fd7e-6efaec5ecbd5"
      },
      "execution_count": 7,
      "outputs": [
        {
          "output_type": "execute_result",
          "data": {
            "text/plain": [
              "array([[0, 1, 2],\n",
              "       [3, 4, 5],\n",
              "       [6, 7, 8]])"
            ]
          },
          "metadata": {},
          "execution_count": 7
        }
      ]
    },
    {
      "cell_type": "code",
      "source": [
        "a1 = np.array([1, 2, 3])\n",
        "a2 = np.array([4, 5, 6])\n",
        "a3 = np.concatenate((a1, a2))\n",
        "a3"
      ],
      "metadata": {
        "colab": {
          "base_uri": "https://localhost:8080/"
        },
        "id": "uWyGx5n_Vwbx",
        "outputId": "4245fa9b-a700-4e2f-f4d2-d83153b6e998"
      },
      "execution_count": 8,
      "outputs": [
        {
          "output_type": "execute_result",
          "data": {
            "text/plain": [
              "array([1, 2, 3, 4, 5, 6])"
            ]
          },
          "metadata": {},
          "execution_count": 8
        }
      ]
    },
    {
      "cell_type": "code",
      "source": [
        "f=np.arange(15).reshape(3,5)\n",
        "g=np.arange(15,30).reshape(3,5)"
      ],
      "metadata": {
        "id": "0GigGo8HV1UH"
      },
      "execution_count": 9,
      "outputs": []
    },
    {
      "cell_type": "code",
      "source": [
        "h=f+g\n",
        "h"
      ],
      "metadata": {
        "colab": {
          "base_uri": "https://localhost:8080/"
        },
        "id": "C5udRMiaV4hu",
        "outputId": "5a45eb12-e086-4628-fdad-5d9510a4a566"
      },
      "execution_count": 10,
      "outputs": [
        {
          "output_type": "execute_result",
          "data": {
            "text/plain": [
              "array([[15, 17, 19, 21, 23],\n",
              "       [25, 27, 29, 31, 33],\n",
              "       [35, 37, 39, 41, 43]])"
            ]
          },
          "metadata": {},
          "execution_count": 10
        }
      ]
    },
    {
      "cell_type": "code",
      "source": [
        "i=f-g\n",
        "i"
      ],
      "metadata": {
        "colab": {
          "base_uri": "https://localhost:8080/"
        },
        "id": "HpLTOlOAV75O",
        "outputId": "8ae1af07-7069-41fd-9f69-ffec28c41a71"
      },
      "execution_count": 11,
      "outputs": [
        {
          "output_type": "execute_result",
          "data": {
            "text/plain": [
              "array([[-15, -15, -15, -15, -15],\n",
              "       [-15, -15, -15, -15, -15],\n",
              "       [-15, -15, -15, -15, -15]])"
            ]
          },
          "metadata": {},
          "execution_count": 11
        }
      ]
    },
    {
      "cell_type": "code",
      "source": [
        "j=f*g\n",
        "j"
      ],
      "metadata": {
        "colab": {
          "base_uri": "https://localhost:8080/"
        },
        "id": "8YHg7ctIV9gR",
        "outputId": "274a833c-7f95-42f2-dc95-bb5ad4a4055d"
      },
      "execution_count": 12,
      "outputs": [
        {
          "output_type": "execute_result",
          "data": {
            "text/plain": [
              "array([[  0,  16,  34,  54,  76],\n",
              "       [100, 126, 154, 184, 216],\n",
              "       [250, 286, 324, 364, 406]])"
            ]
          },
          "metadata": {},
          "execution_count": 12
        }
      ]
    },
    {
      "cell_type": "code",
      "source": [
        "k=f/g\n",
        "k"
      ],
      "metadata": {
        "colab": {
          "base_uri": "https://localhost:8080/"
        },
        "id": "f5_DmgpyWB7u",
        "outputId": "d4780af7-0a6b-4a1b-bf3c-06b8f40ccaed"
      },
      "execution_count": 13,
      "outputs": [
        {
          "output_type": "execute_result",
          "data": {
            "text/plain": [
              "array([[0.        , 0.0625    , 0.11764706, 0.16666667, 0.21052632],\n",
              "       [0.25      , 0.28571429, 0.31818182, 0.34782609, 0.375     ],\n",
              "       [0.4       , 0.42307692, 0.44444444, 0.46428571, 0.48275862]])"
            ]
          },
          "metadata": {},
          "execution_count": 13
        }
      ]
    },
    {
      "cell_type": "code",
      "source": [
        "a1=np.arange(15).reshape(3,5)\n",
        "a2=np.arange(15,30).reshape(5,3)"
      ],
      "metadata": {
        "id": "YEddOfUNWGWv"
      },
      "execution_count": 14,
      "outputs": []
    },
    {
      "cell_type": "code",
      "source": [
        "a3=a1@a2\n",
        "a3"
      ],
      "metadata": {
        "colab": {
          "base_uri": "https://localhost:8080/"
        },
        "id": "vrTSjVZFWJH2",
        "outputId": "c4b5995a-76c7-45a4-cafd-df7b27b7dff4"
      },
      "execution_count": 15,
      "outputs": [
        {
          "output_type": "execute_result",
          "data": {
            "text/plain": [
              "array([[ 240,  250,  260],\n",
              "       [ 765,  800,  835],\n",
              "       [1290, 1350, 1410]])"
            ]
          },
          "metadata": {},
          "execution_count": 15
        }
      ]
    },
    {
      "cell_type": "code",
      "source": [
        "a=  np.random.rand(3, 3, 3)\n",
        "a"
      ],
      "metadata": {
        "colab": {
          "base_uri": "https://localhost:8080/"
        },
        "id": "09BxrFMxWLVx",
        "outputId": "ede5acde-cff1-458e-d16c-43bd9fd6f768"
      },
      "execution_count": 16,
      "outputs": [
        {
          "output_type": "execute_result",
          "data": {
            "text/plain": [
              "array([[[0.04287739, 0.21745297, 0.1169975 ],\n",
              "        [0.36558037, 0.27771907, 0.38349692],\n",
              "        [0.67982549, 0.45337379, 0.0800746 ]],\n",
              "\n",
              "       [[0.89624754, 0.89426944, 0.28945559],\n",
              "        [0.69858049, 0.75187217, 0.10780238],\n",
              "        [0.43204993, 0.56710308, 0.11265649]],\n",
              "\n",
              "       [[0.04645402, 0.48845667, 0.62145917],\n",
              "        [0.17631082, 0.91455213, 0.32585881],\n",
              "        [0.38665954, 0.96924673, 0.13409779]]])"
            ]
          },
          "metadata": {},
          "execution_count": 16
        }
      ]
    },
    {
      "cell_type": "code",
      "source": [
        "a.sum()"
      ],
      "metadata": {
        "colab": {
          "base_uri": "https://localhost:8080/"
        },
        "id": "xvizBjPiWNJg",
        "outputId": "e85546a8-ed4e-461d-8a11-ef7fa207be85"
      },
      "execution_count": 17,
      "outputs": [
        {
          "output_type": "execute_result",
          "data": {
            "text/plain": [
              "11.430530893504283"
            ]
          },
          "metadata": {},
          "execution_count": 17
        }
      ]
    },
    {
      "cell_type": "code",
      "source": [
        "a.mean()"
      ],
      "metadata": {
        "colab": {
          "base_uri": "https://localhost:8080/"
        },
        "id": "Wa9AZ0i4WRB5",
        "outputId": "20df7182-bdaa-43e6-d3f2-e57bad54067e"
      },
      "execution_count": 18,
      "outputs": [
        {
          "output_type": "execute_result",
          "data": {
            "text/plain": [
              "0.4233529960557142"
            ]
          },
          "metadata": {},
          "execution_count": 18
        }
      ]
    },
    {
      "cell_type": "code",
      "source": [
        "a.std()"
      ],
      "metadata": {
        "colab": {
          "base_uri": "https://localhost:8080/"
        },
        "id": "j2ksRbzjWTpo",
        "outputId": "fc1957fe-2b28-475d-86af-891a35e4961c"
      },
      "execution_count": 19,
      "outputs": [
        {
          "output_type": "execute_result",
          "data": {
            "text/plain": [
              "0.2877671551005011"
            ]
          },
          "metadata": {},
          "execution_count": 19
        }
      ]
    }
  ]
}
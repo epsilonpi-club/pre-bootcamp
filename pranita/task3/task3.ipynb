{
  "nbformat": 4,
  "nbformat_minor": 0,
  "metadata": {
    "colab": {
      "provenance": [],
      "toc_visible": true
    },
    "kernelspec": {
      "name": "python3",
      "display_name": "Python 3"
    },
    "language_info": {
      "name": "python"
    }
  },
  "cells": [
    {
      "cell_type": "code",
      "source": [
        "import numpy as np"
      ],
      "metadata": {
        "id": "wxYJJzZEJBYr"
      },
      "execution_count": 2,
      "outputs": []
    },
    {
      "cell_type": "code",
      "execution_count": 3,
      "metadata": {
        "colab": {
          "base_uri": "https://localhost:8080/"
        },
        "id": "vAU5EOFxIixd",
        "outputId": "d0d0b5fd-c6a0-400c-8452-16c9c5bf27d4"
      },
      "outputs": [
        {
          "output_type": "execute_result",
          "data": {
            "text/plain": [
              "array([[0., 0., 0.],\n",
              "       [0., 0., 0.]])"
            ]
          },
          "metadata": {},
          "execution_count": 3
        }
      ],
      "source": [
        "a=np.zeros((2,3))\n",
        "a"
      ]
    },
    {
      "cell_type": "code",
      "source": [
        "b = np.arange(10)\n",
        "b"
      ],
      "metadata": {
        "colab": {
          "base_uri": "https://localhost:8080/"
        },
        "id": "wTmHOiPlI1Ju",
        "outputId": "ea94b38b-2ce9-47c4-b92f-3f9c8029a211"
      },
      "execution_count": 4,
      "outputs": [
        {
          "output_type": "execute_result",
          "data": {
            "text/plain": [
              "array([0, 1, 2, 3, 4, 5, 6, 7, 8, 9])"
            ]
          },
          "metadata": {},
          "execution_count": 4
        }
      ]
    },
    {
      "cell_type": "code",
      "source": [
        "c = np.arange(9).reshape((3, 3))\n",
        "c"
      ],
      "metadata": {
        "colab": {
          "base_uri": "https://localhost:8080/"
        },
        "id": "WfXJigGRI0tm",
        "outputId": "91c2e2bc-9466-4c29-f61f-4f8afdd33f78"
      },
      "execution_count": 5,
      "outputs": [
        {
          "output_type": "execute_result",
          "data": {
            "text/plain": [
              "array([[0, 1, 2],\n",
              "       [3, 4, 5],\n",
              "       [6, 7, 8]])"
            ]
          },
          "metadata": {},
          "execution_count": 5
        }
      ]
    },
    {
      "cell_type": "code",
      "source": [
        "rg=np.random.default_rng(1)\n",
        "d=rg.random((1,5))\n",
        "d"
      ],
      "metadata": {
        "colab": {
          "base_uri": "https://localhost:8080/"
        },
        "id": "1-F9KeFNI0qL",
        "outputId": "dbd43ae3-c0bc-4b12-b78f-9210459cc40a"
      },
      "execution_count": 13,
      "outputs": [
        {
          "output_type": "execute_result",
          "data": {
            "text/plain": [
              "array([[0.51182162, 0.9504637 , 0.14415961, 0.94864945, 0.31183145]])"
            ]
          },
          "metadata": {},
          "execution_count": 13
        }
      ]
    },
    {
      "cell_type": "code",
      "source": [
        "e = np.arange(9)\n",
        "e"
      ],
      "metadata": {
        "colab": {
          "base_uri": "https://localhost:8080/"
        },
        "id": "e1pX8GNmI0l7",
        "outputId": "a1eee279-9331-403a-e060-f6181410be3a"
      },
      "execution_count": 15,
      "outputs": [
        {
          "output_type": "execute_result",
          "data": {
            "text/plain": [
              "array([0, 1, 2, 3, 4, 5, 6, 7, 8])"
            ]
          },
          "metadata": {},
          "execution_count": 15
        }
      ]
    },
    {
      "cell_type": "code",
      "source": [
        "e= e.reshape((3, 3))\n",
        "e"
      ],
      "metadata": {
        "colab": {
          "base_uri": "https://localhost:8080/"
        },
        "id": "zA0SHGoeI0hH",
        "outputId": "7081a1d0-e70b-44a2-b539-8f9246615afe"
      },
      "execution_count": 16,
      "outputs": [
        {
          "output_type": "execute_result",
          "data": {
            "text/plain": [
              "array([[0, 1, 2],\n",
              "       [3, 4, 5],\n",
              "       [6, 7, 8]])"
            ]
          },
          "metadata": {},
          "execution_count": 16
        }
      ]
    },
    {
      "cell_type": "code",
      "source": [
        "a1 = np.array([1, 2, 3])\n",
        "a2 = np.array([4, 5, 6])\n",
        "a3 = np.concatenate((a1, a2))\n",
        "a3"
      ],
      "metadata": {
        "colab": {
          "base_uri": "https://localhost:8080/"
        },
        "id": "kB68zblTI0dR",
        "outputId": "f17c44b2-f774-4c41-90bb-e110ed9c207d"
      },
      "execution_count": 17,
      "outputs": [
        {
          "output_type": "execute_result",
          "data": {
            "text/plain": [
              "array([1, 2, 3, 4, 5, 6])"
            ]
          },
          "metadata": {},
          "execution_count": 17
        }
      ]
    },
    {
      "cell_type": "code",
      "source": [
        "f=np.arange(15).reshape(3,5)\n",
        "g=np.arange(15,30).reshape(3,5)"
      ],
      "metadata": {
        "id": "_rEvc1mFLl6I"
      },
      "execution_count": 20,
      "outputs": []
    },
    {
      "cell_type": "code",
      "source": [
        "h=f+g\n",
        "h"
      ],
      "metadata": {
        "colab": {
          "base_uri": "https://localhost:8080/"
        },
        "id": "_1yqVGt6Ll1Y",
        "outputId": "ff47cb10-1915-456a-cb1d-03cdbb106287"
      },
      "execution_count": 22,
      "outputs": [
        {
          "output_type": "execute_result",
          "data": {
            "text/plain": [
              "array([[15, 17, 19, 21, 23],\n",
              "       [25, 27, 29, 31, 33],\n",
              "       [35, 37, 39, 41, 43]])"
            ]
          },
          "metadata": {},
          "execution_count": 22
        }
      ]
    },
    {
      "cell_type": "code",
      "source": [
        "i=f-g\n",
        "i"
      ],
      "metadata": {
        "colab": {
          "base_uri": "https://localhost:8080/"
        },
        "id": "6sOTLZ45Llwc",
        "outputId": "ab51d318-2cbc-4d02-e8b7-352550c671df"
      },
      "execution_count": 23,
      "outputs": [
        {
          "output_type": "execute_result",
          "data": {
            "text/plain": [
              "array([[-15, -15, -15, -15, -15],\n",
              "       [-15, -15, -15, -15, -15],\n",
              "       [-15, -15, -15, -15, -15]])"
            ]
          },
          "metadata": {},
          "execution_count": 23
        }
      ]
    },
    {
      "cell_type": "code",
      "source": [
        "j=f*g\n",
        "j"
      ],
      "metadata": {
        "colab": {
          "base_uri": "https://localhost:8080/"
        },
        "id": "wKr1QhQZLlqp",
        "outputId": "977766f7-c135-4a85-f8b3-eba69387be3a"
      },
      "execution_count": 24,
      "outputs": [
        {
          "output_type": "execute_result",
          "data": {
            "text/plain": [
              "array([[  0,  16,  34,  54,  76],\n",
              "       [100, 126, 154, 184, 216],\n",
              "       [250, 286, 324, 364, 406]])"
            ]
          },
          "metadata": {},
          "execution_count": 24
        }
      ]
    },
    {
      "cell_type": "code",
      "source": [
        "k=f/g\n",
        "k"
      ],
      "metadata": {
        "colab": {
          "base_uri": "https://localhost:8080/"
        },
        "id": "QIiQtXH6NCtx",
        "outputId": "6d3316fe-b013-4345-c685-03e64546c1a4"
      },
      "execution_count": 26,
      "outputs": [
        {
          "output_type": "execute_result",
          "data": {
            "text/plain": [
              "array([[0.        , 0.0625    , 0.11764706, 0.16666667, 0.21052632],\n",
              "       [0.25      , 0.28571429, 0.31818182, 0.34782609, 0.375     ],\n",
              "       [0.4       , 0.42307692, 0.44444444, 0.46428571, 0.48275862]])"
            ]
          },
          "metadata": {},
          "execution_count": 26
        }
      ]
    },
    {
      "cell_type": "code",
      "source": [
        "a1=np.arange(15).reshape(3,5)\n",
        "a2=np.arange(15,30).reshape(5,3)"
      ],
      "metadata": {
        "id": "wQUi3MdWNCoL"
      },
      "execution_count": 31,
      "outputs": []
    },
    {
      "cell_type": "code",
      "source": [
        "a3=a1@a2\n",
        "a3"
      ],
      "metadata": {
        "colab": {
          "base_uri": "https://localhost:8080/"
        },
        "id": "f5lBXlYdNCZS",
        "outputId": "91c5f391-67be-4b9a-f856-2283c560e88c"
      },
      "execution_count": 32,
      "outputs": [
        {
          "output_type": "execute_result",
          "data": {
            "text/plain": [
              "array([[ 240,  250,  260],\n",
              "       [ 765,  800,  835],\n",
              "       [1290, 1350, 1410]])"
            ]
          },
          "metadata": {},
          "execution_count": 32
        }
      ]
    },
    {
      "cell_type": "code",
      "source": [
        "a=  np.random.rand(3, 3, 3)\n",
        "a"
      ],
      "metadata": {
        "colab": {
          "base_uri": "https://localhost:8080/"
        },
        "id": "3NU3TFkbNuoZ",
        "outputId": "67621d10-77be-49bc-da8c-1f51b8d256b9"
      },
      "execution_count": 38,
      "outputs": [
        {
          "output_type": "execute_result",
          "data": {
            "text/plain": [
              "array([[[0.32201825, 0.59859208, 0.60314109],\n",
              "        [0.79394064, 0.31839195, 0.55119242],\n",
              "        [0.03291416, 0.58320091, 0.90710914]],\n",
              "\n",
              "       [[0.07947947, 0.19006853, 0.07721614],\n",
              "        [0.83253434, 0.5946728 , 0.53827756],\n",
              "        [0.327886  , 0.40244777, 0.52813293]],\n",
              "\n",
              "       [[0.87111934, 0.76587502, 0.53903459],\n",
              "        [0.84298111, 0.32409288, 0.21846754],\n",
              "        [0.92282486, 0.63264085, 0.22577248]]])"
            ]
          },
          "metadata": {},
          "execution_count": 38
        }
      ]
    },
    {
      "cell_type": "code",
      "source": [
        "a.sum()"
      ],
      "metadata": {
        "colab": {
          "base_uri": "https://localhost:8080/"
        },
        "id": "MmN44oybNudg",
        "outputId": "bb69226f-366d-49b1-c0f8-ed6671c2965c"
      },
      "execution_count": 40,
      "outputs": [
        {
          "output_type": "execute_result",
          "data": {
            "text/plain": [
              "13.624024824444374"
            ]
          },
          "metadata": {},
          "execution_count": 40
        }
      ]
    },
    {
      "cell_type": "code",
      "source": [
        "a.mean()"
      ],
      "metadata": {
        "colab": {
          "base_uri": "https://localhost:8080/"
        },
        "id": "tW2mrrHGPRJa",
        "outputId": "8b4f9979-1387-40d1-da3a-2b1e50efa6d2"
      },
      "execution_count": 41,
      "outputs": [
        {
          "output_type": "execute_result",
          "data": {
            "text/plain": [
              "0.5045935120164583"
            ]
          },
          "metadata": {},
          "execution_count": 41
        }
      ]
    },
    {
      "cell_type": "code",
      "source": [
        "a.std()"
      ],
      "metadata": {
        "colab": {
          "base_uri": "https://localhost:8080/"
        },
        "id": "nHvKDyT3PRDl",
        "outputId": "2fb1a5a8-5c96-424c-8e01-357747f1f84f"
      },
      "execution_count": 42,
      "outputs": [
        {
          "output_type": "execute_result",
          "data": {
            "text/plain": [
              "0.2643115703312241"
            ]
          },
          "metadata": {},
          "execution_count": 42
        }
      ]
    }
  ]
}